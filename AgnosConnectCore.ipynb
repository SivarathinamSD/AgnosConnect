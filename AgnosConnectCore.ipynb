{
  "cells": [
    {
      "cell_type": "markdown",
      "metadata": {
        "id": "pcG_0d1QvQhG"
      },
      "source": [
        "Step 1: Install Necessary Libraries"
      ]
    },
    {
      "cell_type": "code",
      "execution_count": 4,
      "metadata": {
        "colab": {
          "base_uri": "https://localhost:8080/"
        },
        "id": "1swGFvhVsLp_",
        "outputId": "2840bed3-5f43-400f-ce6f-4bd57bf98573"
      },
      "outputs": [
        {
          "name": "stdout",
          "output_type": "stream",
          "text": [
            "Requirement already satisfied: groq in /usr/local/lib/python3.10/dist-packages (0.10.0)\n",
            "Requirement already satisfied: pypdf in /usr/local/lib/python3.10/dist-packages (4.3.1)\n",
            "Requirement already satisfied: anyio<5,>=3.5.0 in /usr/local/lib/python3.10/dist-packages (from groq) (3.7.1)\n",
            "Requirement already satisfied: distro<2,>=1.7.0 in /usr/lib/python3/dist-packages (from groq) (1.7.0)\n",
            "Requirement already satisfied: httpx<1,>=0.23.0 in /usr/local/lib/python3.10/dist-packages (from groq) (0.27.2)\n",
            "Requirement already satisfied: pydantic<3,>=1.9.0 in /usr/local/lib/python3.10/dist-packages (from groq) (2.8.2)\n",
            "Requirement already satisfied: sniffio in /usr/local/lib/python3.10/dist-packages (from groq) (1.3.1)\n",
            "Requirement already satisfied: typing-extensions<5,>=4.7 in /usr/local/lib/python3.10/dist-packages (from groq) (4.12.2)\n",
            "Requirement already satisfied: idna>=2.8 in /usr/local/lib/python3.10/dist-packages (from anyio<5,>=3.5.0->groq) (3.8)\n",
            "Requirement already satisfied: exceptiongroup in /usr/local/lib/python3.10/dist-packages (from anyio<5,>=3.5.0->groq) (1.2.2)\n",
            "Requirement already satisfied: certifi in /usr/local/lib/python3.10/dist-packages (from httpx<1,>=0.23.0->groq) (2024.7.4)\n",
            "Requirement already satisfied: httpcore==1.* in /usr/local/lib/python3.10/dist-packages (from httpx<1,>=0.23.0->groq) (1.0.5)\n",
            "Requirement already satisfied: h11<0.15,>=0.13 in /usr/local/lib/python3.10/dist-packages (from httpcore==1.*->httpx<1,>=0.23.0->groq) (0.14.0)\n",
            "Requirement already satisfied: annotated-types>=0.4.0 in /usr/local/lib/python3.10/dist-packages (from pydantic<3,>=1.9.0->groq) (0.7.0)\n",
            "Requirement already satisfied: pydantic-core==2.20.1 in /usr/local/lib/python3.10/dist-packages (from pydantic<3,>=1.9.0->groq) (2.20.1)\n"
          ]
        }
      ],
      "source": [
        "# Install necessary libraries\n",
        "!pip install groq pypdf\n"
      ]
    },
    {
      "cell_type": "markdown",
      "metadata": {
        "id": "C7Ls2x-wvU0m"
      },
      "source": [
        "Step 2: Import Libraries"
      ]
    },
    {
      "cell_type": "code",
      "execution_count": 5,
      "metadata": {
        "id": "5yQGytlzsMvV"
      },
      "outputs": [],
      "source": [
        "# Importing necessary libraries\n",
        "from pypdf import PdfReader\n",
        "from sklearn.feature_extraction.text import CountVectorizer\n",
        "from sklearn.metrics.pairwise import cosine_similarity\n",
        "from groq import Groq\n",
        "import json\n"
      ]
    },
    {
      "cell_type": "markdown",
      "metadata": {
        "id": "lK9UipuCvYpi"
      },
      "source": [
        "Step 3: Function to Extract Text from PDF"
      ]
    },
    {
      "cell_type": "code",
      "execution_count": 6,
      "metadata": {
        "id": "4BLtmqBbsPHN"
      },
      "outputs": [],
      "source": [
        "def extract_text_from_pdf(pdf_path):\n",
        "    \"\"\"\n",
        "    Extracts text from a PDF file.\n",
        "\n",
        "    \"\"\"\n",
        "    reader = PdfReader(pdf_path)\n",
        "    resume_text = \"\"\n",
        "\n",
        "    for i in range(len(reader.pages)):\n",
        "        page = reader.pages[i]\n",
        "        resume_text += page.extract_text()\n",
        "\n",
        "    return resume_text\n"
      ]
    },
    {
      "cell_type": "markdown",
      "metadata": {
        "id": "YvHIvM8CvZVS"
      },
      "source": [
        "Step 4: Function to Extract Information Using Groq API"
      ]
    },
    {
      "cell_type": "code",
      "execution_count": 7,
      "metadata": {
        "id": "KEw70WLisSuu"
      },
      "outputs": [],
      "source": [
        "def extract_resume_info(api_key, resume_text):\n",
        "    \"\"\"\n",
        "    Extracts information from the resume text using Groq API.\n",
        "\n",
        "    \"\"\"\n",
        "    client = Groq(api_key=api_key)\n",
        "    completion = client.chat.completions.create(\n",
        "        model=\"llama3-8b-8192\",\n",
        "        messages=[\n",
        "            {\n",
        "                \"role\": \"user\",\n",
        "                \"content\": f\"\"\"\n",
        "                I have a resume text. Extract the following information:\n",
        "\n",
        "                - Projects (project short summary, duration)\n",
        "                - Experience (Company, Role, Duration) include internships\n",
        "                - Skills(only Skills) remove categories\n",
        "\n",
        "                Resume:\n",
        "                {resume_text}\n",
        "\n",
        "                Please provide the extracted information in a structured JSON format.\n",
        "                \"\"\"\n",
        "            }\n",
        "        ],\n",
        "        temperature=1,\n",
        "        max_tokens=1024,\n",
        "        top_p=1,\n",
        "        stream=True,\n",
        "        stop=None,\n",
        "    )\n",
        "\n",
        "    response = \"\"\n",
        "    for chunk in completion:\n",
        "        response += chunk.choices[0].delta.content or \"\"\n",
        "\n",
        "    start_index = response.find('{')\n",
        "    end_index = response.rfind('}') + 1\n",
        "    json_str = response[start_index:end_index]\n",
        "    json_data = json.loads(json_str)\n",
        "\n",
        "    return json_data\n"
      ]
    },
    {
      "cell_type": "markdown",
      "metadata": {
        "id": "60tl8sHzvfX2"
      },
      "source": [
        "Step 5: Function to Calculate Similarity Between Resume and Job Descriptions"
      ]
    },
    {
      "cell_type": "code",
      "execution_count": 8,
      "metadata": {
        "id": "3cwrLNJEsk5Y"
      },
      "outputs": [],
      "source": [
        "def calculate_similarity(resume_text, job_description):\n",
        "    \"\"\"\n",
        "    Calculates the similarity between resume text and a job description.\n",
        "\n",
        "    \"\"\"\n",
        "    rtext = [resume_text, job_description]\n",
        "    cv = CountVectorizer()\n",
        "    count_matrix = cv.fit_transform(rtext)\n",
        "    match = cosine_similarity(count_matrix)[0][1] * 100\n",
        "    return round(match, 2)\n"
      ]
    },
    {
      "cell_type": "markdown",
      "metadata": {
        "id": "EKYl1JpFvhNK"
      },
      "source": [
        "Step 6: Function to Recommend Jobs Based on Resume"
      ]
    },
    {
      "cell_type": "code",
      "execution_count": 9,
      "metadata": {
        "id": "DJWDwNQ5soDF"
      },
      "outputs": [],
      "source": [
        "def recommend_jobs(resume_text, jobs):\n",
        "    \"\"\"\n",
        "    Recommends jobs based on the similarity between the resume and job descriptions.\n",
        "\n",
        "    \"\"\"\n",
        "    matches = []\n",
        "    for job_des in jobs:\n",
        "        match = calculate_similarity(resume_text, job_des['job_description'])\n",
        "        matches.append({\"job_name\": job_des['job_name'], \"match\": match})\n",
        "\n",
        "    sorted_matches = sorted(matches, key=lambda x: x['match'], reverse=True)\n",
        "    return sorted_matches\n"
      ]
    },
    {
      "cell_type": "markdown",
      "metadata": {
        "id": "lyEKOWCyvnoU"
      },
      "source": [
        "Step 7: Main Function to Run the Notebook"
      ]
    },
    {
      "cell_type": "code",
      "execution_count": 10,
      "metadata": {
        "colab": {
          "base_uri": "https://localhost:8080/"
        },
        "id": "V8nrisQVspv3",
        "outputId": "cc0024ad-7c10-4a05-f3e0-bea6bc7e925f"
      },
      "outputs": [
        {
          "name": "stdout",
          "output_type": "stream",
          "text": [
            "Enter Path to resume: /content/1901841_RESUME.pdf\n",
            "Resume Text:\n",
            "ANUVA GOYAL   \n",
            "D.O.B.: 1st October 2000  \n",
            "Gender: Female    \n",
            "OBJECTIVE  \n",
            " \n",
            "Energetic, innovative engineering undergraduate, passionate about Machine Learning, NLP and Deep Learning for \n",
            "solving real -world problems, aiming to work in an organization providing great learning experience and growth \n",
            "opportunities for mutual benefit.  \n",
            " \n",
            "EDUCATION  \n",
            " Qualification  Institute  CGPA  Year of Completion  \n",
            " \n",
            " B.Tech.  Dayalbagh Educational Institute,  CGPA 9.35  2023   \n",
            " \n",
            " (Electrical Engineering  (Till 4   \n",
            " \n",
            " Dayalbagh, Agra  Pursuing   \n",
            " Specialization in Computer Science)  semesters)   \n",
            "    \n",
            " \n",
            " XII St. Clare’s Senior Secondary School, Agra  94%  2019   \n",
            " \n",
            " X St. Clare’s Senior Secondary School, Agra  CGPA 10  2017   \n",
            " \n",
            " INTERNSHIPS AND TRAININGS      \n",
            " \n",
            " \n",
            "Internships:   \n",
            "• Completed an internship at Genisup India Pvt. Ltd.  (July 2021 - Aug 2021) – NLP: Topic \n",
            "Modeling o Worked on proxy rotation and utilization  \n",
            "o  Learnt Web Scraping using bs4 and performed LDA Topic Modeling  on “The Hindu” news articles.   \n",
            "• Worked as an intern at VUGS Technologies  (May 2021 - June 2021)   \n",
            "o Built an OCR using Pytesseract  and NER Text Classification Model  to categorize detected text \n",
            "into Name, E -mail Address, Phone number and Date.  \n",
            " \n",
            "Trainings:   \n",
            "• Undertaking  Deep learning & Computer Vision A -Z: OpenCV, SSD, GANs  course f rom Udemy (Nov 2021)   \n",
            "• Completed Neural Networks and Deep Learning  course from Coursera (Apr 2021)   \n",
            "• Undertook Machine Learning A -Z: Hands on Python and R in Data Science  course from Udemy (Feb 2021)   \n",
            "• Completed Python Core  course from SoloLearn (Dec 2020)  \n",
            " \n",
            "PROJECTS:  \n",
            " \n",
            "• Currently working on Mental Healthcare Chatbot  (Ongoing)  \n",
            " \n",
            "• Built a full stack Speech Emotion based Movie Recommender system  using the RAVDESS Dataset for SER \n",
            "model, and Web Scraping techniques for recommendation system. (Oct 2021)  \n",
            " \n",
            "• Finding a Perfect Fit , a model to parse resumes using Pytesseract to extract text, NLP for data wrangling, \n",
            "and XG Boost and Random Forest technique s for classification (Aug 2021)  \n",
            " \n",
            "• OCR for Handwritten text,  a model for digit (0 -9) + A -Z characters classification using CNN  architecture \n",
            "to detect the final word in the image.  (June 2021)  \n",
            " \n",
            "• Face Detection and Recognition  using OpenCV and TensorFlow (May 20 21) \n",
            " \n",
            "• Face Mask Detection  which detects the face using Haar Cascade Classifier from OpenCV  library and classifies \n",
            "the image into one of the three categories - Without Mask, With Mask and Incorrect Mask with the help of  \n",
            "LBPH Algorithm  (May 2021)  \n",
            " \n",
            "• Heart Attack  Prediction  and Insurance Company Prediction  using various classification algorithms.  SKILLS   \n",
            "• Experience with C, C++, Python, JAVA, HTML, CSS, JavaScript, Data Structures, SQL   \n",
            "• Software’s: PyCharm, Jupyter Notebook, Google Colab, Code Blocks, MATLAB, Turbo C++, MS Office   \n",
            "• Machine Learning Frameworks: Scikit -Learn, TensorFlow, OpenCV, NumPy, Pytesseract, Keras   \n",
            " \n",
            "ACHIEVEMENTS AND CERTIFICATIONS   \n",
            "• Secured 3rd position in TECH -A-THON  organized by The ECE Society, BIT Mesra, Ranchi (Oct 2021)  \n",
            "• Participant of 30 Days of Google Cloud  (Sep 2021 - Oct 2021)   \n",
            "• Won 1st prize in the online competition Game of Brands  organized by SGGSCC, University of Delhi (Mar 2021)  \n",
            "• Secured 2nd rank in Street Play, an Intra Faculty Competition on theme “Women Empowerment” (Sep 2021)   \n",
            " \n",
            "WORKSHOPS AND EVENTS   \n",
            "• Finalist of Rise in Crisis , a crisis management competition organized by SRCC, University of Delhi (Nov 2021)   \n",
            "• Participated in Hero Campus C hallenge S7 , a national level competition organized by Hero MotoCorp \n",
            "Limited (Nov 2020)   \n",
            "• Attended online KLA Workshop on AI and HPC in Semiconductor Manufacturing  organized by IIT \n",
            "Madras (Sep 2021)   \n",
            "• Actively participated in NLP with Disaster Tweets  organized by Kaggle (Aug 2021)   \n",
            "• Qualified Vishleshan – The Analytics Event  organized by NIT Trichy (Nov 2020)   \n",
            "• Competed in Prabandhan’20: Annual Management Conclave  organized by IIT Kanpur (Sep 2020)   \n",
            "• Participated in 5 days course on Geospatial Inputs for Enabling Master Plan Formulation  conducted by \n",
            "Indian Institute of Remote Sensing (July 2020)   \n",
            "• Member of Stage Management Team in Drama Fest (District level) (Feb 2020)   \n",
            "• Served as a member of National S ervice Scheme with 7 days NSS Camp (Jan 2020)   \n",
            " \n",
            "INTERESTS AND HOBBIES   \n",
            "• Machine Learning and Data Science   \n",
            "• Reading novels   \n",
            "• Volunteering and social service   \n",
            " \n",
            " \n",
            "Phone: +91 9520349542 - Email:  anuvagoyal111@gmail.com  \n",
            "GitHub:  https://github.com/AnuvaGoyal  \n",
            "\n",
            "Extracted Resume Information:\n",
            "{\n",
            "  \"projects\": [\n",
            "    {\n",
            "      \"summary\": \"Mental Healthcare Chatbot\",\n",
            "      \"duration\": \"Ongoing\"\n",
            "    },\n",
            "    {\n",
            "      \"summary\": \"Full stack Speech Emotion based Movie Recommender system\",\n",
            "      \"duration\": \"Oct 2021\"\n",
            "    },\n",
            "    {\n",
            "      \"summary\": \"Finding a Perfect Fit (Resume parsing model)\",\n",
            "      \"duration\": \"Aug 2021\"\n",
            "    },\n",
            "    {\n",
            "      \"summary\": \"OCR for Handwritten text\",\n",
            "      \"duration\": \"June 2021\"\n",
            "    },\n",
            "    {\n",
            "      \"summary\": \"Face Detection and Recognition\",\n",
            "      \"duration\": \"May 2021\"\n",
            "    },\n",
            "    {\n",
            "      \"summary\": \"Face Mask Detection\",\n",
            "      \"duration\": \"May 2021\"\n",
            "    },\n",
            "    {\n",
            "      \"summary\": \"Heart Attack Prediction and Insurance Company Prediction\",\n",
            "      \"duration\": \"\"\n",
            "    }\n",
            "  ],\n",
            "  \"experience\": [\n",
            "    {\n",
            "      \"company\": \"Genisup India Pvt. Ltd.\",\n",
            "      \"role\": \"Intern\",\n",
            "      \"duration\": \"July 2021 - Aug 2021\"\n",
            "    },\n",
            "    {\n",
            "      \"company\": \"VUGS Technologies\",\n",
            "      \"role\": \"Intern\",\n",
            "      \"duration\": \"May 2021 - June 2021\"\n",
            "    }\n",
            "  ],\n",
            "  \"skills\": [\n",
            "    \"C\",\n",
            "    \"C++\",\n",
            "    \"Python\",\n",
            "    \"JAVA\",\n",
            "    \"HTML\",\n",
            "    \"CSS\",\n",
            "    \"JavaScript\",\n",
            "    \"Data Structures\",\n",
            "    \"SQL\",\n",
            "    \"PyCharm\",\n",
            "    \"Jupyter Notebook\",\n",
            "    \"Google Colab\",\n",
            "    \"Code Blocks\",\n",
            "    \"MATLAB\",\n",
            "    \"Turbo C++\",\n",
            "    \"MS Office\",\n",
            "    \"Scikit-Learn\",\n",
            "    \"TensorFlow\",\n",
            "    \"OpenCV\",\n",
            "    \"NumPy\",\n",
            "    \"Pytesseract\",\n",
            "    \"Keras\"\n",
            "  ]\n",
            "}\n",
            "\n",
            "Job Recommendations:\n",
            "AI/ML Engineer -> 47.57% match\n",
            "Database Administrator -> 40.23% match\n",
            "Product Manager -> 38.51% match\n",
            "Back-End Developer -> 37.85% match\n",
            "Front-End Developer -> 36.8% match\n",
            "System Administrator -> 36.16% match\n",
            "Cybersecurity Analyst -> 34.28% match\n",
            "DevOps Engineer -> 33.53% match\n",
            "Data Scientist -> 33.48% match\n",
            "UI/UX Designer -> 33.32% match\n",
            "IT Support Specialist -> 30.9% match\n",
            "Network Engineer -> 30.86% match\n",
            "Cloud Architect -> 30.67% match\n",
            "Software Engineer -> 29.69% match\n",
            "QA Engineer -> 25.39% match\n"
          ]
        }
      ],
      "source": [
        "def main():\n",
        "    # Step 1: Extract text from PDF\n",
        "    pdf_path = input(\"Enter Path to resume: \")\n",
        "    resume_text = extract_text_from_pdf(pdf_path)\n",
        "    print(f\"Resume Text:\\n{resume_text}\\n\")\n",
        "\n",
        "    # Step 2: Extract structured information from resume using Groq API\n",
        "    api_key = \"\" #API key is shared for security concern\n",
        "    extracted_info = extract_resume_info(api_key, resume_text)\n",
        "    print(f\"Extracted Resume Information:\\n{json.dumps(extracted_info, indent=2)}\\n\")\n",
        "\n",
        "    # Step 3: Job descriptions\n",
        "    jobs = [\n",
        "    {\n",
        "        \"job_name\": \"Software Engineer\",\n",
        "        \"job_description\": \"Responsible for designing, developing, and maintaining software applications. Required skills: Proficiency in programming languages like Java, C#, or Python, experience with version control systems (e.g., Git), understanding of software development methodologies (e.g., Agile), and strong problem-solving abilities.\"\n",
        "    },\n",
        "    {\n",
        "        \"job_name\": \"Data Scientist\",\n",
        "        \"job_description\": \"Analyze and interpret complex data to help companies make better decisions. Required skills: Proficiency in Python or R, experience with machine learning algorithms, knowledge of data visualization tools (e.g., Tableau, Power BI), and strong statistical analysis skills.\"\n",
        "    },\n",
        "    {\n",
        "        \"job_name\": \"DevOps Engineer\",\n",
        "        \"job_description\": \"Facilitate collaboration between development and operations teams to improve deployment and automation processes. Required skills: Experience with CI/CD tools (e.g., Jenkins, GitLab CI), proficiency in scripting languages (e.g., Bash, Python), knowledge of cloud platforms (e.g., AWS, Azure), and understanding of containerization (e.g., Docker, Kubernetes).\"\n",
        "    },\n",
        "    {\n",
        "        \"job_name\": \"Cybersecurity Analyst\",\n",
        "        \"job_description\": \"Protect an organization's IT infrastructure by identifying vulnerabilities and implementing security measures. Required skills: Knowledge of security protocols and standards (e.g., ISO 27001), experience with security tools (e.g., firewalls, IDS/IPS), proficiency in network security, and strong analytical and problem-solving abilities.\"\n",
        "    },\n",
        "    {\n",
        "        \"job_name\": \"Front-End Developer\",\n",
        "        \"job_description\": \"Develop and maintain user-facing features of web applications. Required skills: Proficiency in HTML, CSS, and JavaScript, experience with front-end frameworks (e.g., React, Angular, Vue.js), understanding of responsive design principles, and ability to work with RESTful APIs.\"\n",
        "    },\n",
        "    {\n",
        "        \"job_name\": \"Back-End Developer\",\n",
        "        \"job_description\": \"Develop and maintain the server-side logic of web applications. Required skills: Proficiency in server-side languages (e.g., Node.js, Python, Java), experience with databases (e.g., MySQL, MongoDB), knowledge of API design and development, and understanding of security best practices.\"\n",
        "    },\n",
        "    {\n",
        "        \"job_name\": \"Cloud Architect\",\n",
        "        \"job_description\": \"Design and oversee the deployment of cloud-based solutions for an organization. Required skills: Experience with cloud platforms (e.g., AWS, Azure, Google Cloud), knowledge of cloud architecture best practices, proficiency in cloud automation tools (e.g., Terraform, CloudFormation), and strong problem-solving skills.\"\n",
        "    },\n",
        "    {\n",
        "        \"job_name\": \"IT Support Specialist\",\n",
        "        \"job_description\": \"Provide technical assistance to end-users and maintain IT systems. Required skills: Proficiency in troubleshooting hardware and software issues, knowledge of operating systems (e.g., Windows, Linux, macOS), experience with help desk software (e.g., ServiceNow, Jira), and strong communication skills.\"\n",
        "    },\n",
        "    {\n",
        "        \"job_name\": \"Database Administrator\",\n",
        "        \"job_description\": \"Manage and maintain an organization's databases, ensuring data integrity and performance. Required skills: Proficiency in SQL and database management systems (e.g., Oracle, MySQL, PostgreSQL), experience with backup and recovery procedures, knowledge of database security practices, and strong analytical skills.\"\n",
        "    },\n",
        "    {\n",
        "        \"job_name\": \"AI/ML Engineer\",\n",
        "        \"job_description\": \"Design and develop machine learning models and AI-based solutions. Required skills: Proficiency in Python, experience with machine learning frameworks (e.g., TensorFlow, PyTorch), knowledge of data preprocessing techniques, and understanding of algorithms and data structures.\"\n",
        "    },\n",
        "    {\n",
        "        \"job_name\": \"Network Engineer\",\n",
        "        \"job_description\": \"Design, implement, and manage the network infrastructure for an organization. Required skills: Proficiency in networking protocols (e.g., TCP/IP, DNS, BGP), experience with network hardware (e.g., routers, switches, firewalls), knowledge of network security practices, and strong troubleshooting abilities.\"\n",
        "    },\n",
        "    {\n",
        "        \"job_name\": \"QA Engineer\",\n",
        "        \"job_description\": \"Ensure the quality and reliability of software applications through rigorous testing. Required skills: Experience with software testing methodologies (e.g., unit testing, integration testing, regression testing), proficiency in test automation tools (e.g., Selenium, JUnit), knowledge of bug tracking tools (e.g., Jira), and strong attention to detail.\"\n",
        "    },\n",
        "    {\n",
        "        \"job_name\": \"UI/UX Designer\",\n",
        "        \"job_description\": \"Design user interfaces and experiences for web and mobile applications. Required skills: Proficiency in design tools (e.g., Adobe XD, Sketch, Figma), experience with wireframing and prototyping, understanding of user-centered design principles, and strong visual design skills.\"\n",
        "    },\n",
        "    {\n",
        "        \"job_name\": \"Product Manager\",\n",
        "        \"job_description\": \"Oversee the development and lifecycle of a product from conception to launch. Required skills: Strong understanding of product management principles, experience with Agile methodologies, proficiency in project management tools (e.g., Jira, Trello), and strong communication and leadership abilities.\"\n",
        "    },\n",
        "    {\n",
        "        \"job_name\": \"System Administrator\",\n",
        "        \"job_description\": \"Manage and maintain an organization's IT systems, ensuring they run smoothly and efficiently. Required skills: Proficiency in operating systems (e.g., Windows, Linux), experience with server administration, knowledge of network and system security practices, and strong troubleshooting skills.\"\n",
        "    }\n",
        "]\n",
        "\n",
        "\n",
        "    # Step 4: Recommend jobs based on resume\n",
        "    recommended_jobs = recommend_jobs(resume_text, jobs)\n",
        "    print(\"Job Recommendations:\")\n",
        "    for job in recommended_jobs:\n",
        "        print(f\"{job['job_name']} -> {job['match']}% match\")\n",
        "\n",
        "if __name__ == \"__main__\":\n",
        "    main()\n"
      ]
    }
  ],
  "metadata": {
    "colab": {
      "provenance": []
    },
    "kernelspec": {
      "display_name": "Python 3",
      "name": "python3"
    },
    "language_info": {
      "name": "python"
    }
  },
  "nbformat": 4,
  "nbformat_minor": 0
}
